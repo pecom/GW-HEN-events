{
 "cells": [
  {
   "cell_type": "code",
   "execution_count": 1,
   "metadata": {},
   "outputs": [],
   "source": [
    "import numpy as np\n",
    "import astropy as ap\n",
    "import scipy as sp\n",
    "from scipy import stats\n",
    "import healpy as hp\n",
    "import matplotlib.pyplot as plt\n",
    "from tqdm import tqdm_notebook as tqdm\n",
    "import csv"
   ]
  },
  {
   "cell_type": "code",
   "execution_count": 2,
   "metadata": {},
   "outputs": [],
   "source": [
    "%matplotlib inline\n",
    "%config InlineBackend.figure_format='retina'"
   ]
  },
  {
   "cell_type": "code",
   "execution_count": 3,
   "metadata": {},
   "outputs": [],
   "source": [
    "# Constants and other setup variables. Event rates are events/year. Spherical points should be (theta, phi)\n",
    "low_energy_rate = 50\n",
    "high_energy_rate = 70\n",
    "low_energy_resolution = .5*np.pi/180\n",
    "high_energy_resolution = .3*np.pi/180\n",
    "lisa_resolution = 1*np.pi/180\n",
    "NSIDE = 128\n",
    "Npix = hp.nside2npix(NSIDE)"
   ]
  },
  {
   "cell_type": "code",
   "execution_count": 86,
   "metadata": {},
   "outputs": [],
   "source": [
    "low_energy_map = np.zeros(Npix) + low_energy_resolution + np.random.rand(Npix)\n",
    "high_energy_map = np.zeros(Npix) + high_energy_resolution + np.random.rand(Npix)"
   ]
  },
  {
   "cell_type": "code",
   "execution_count": 4,
   "metadata": {},
   "outputs": [],
   "source": [
    "# Monte Carlo values\n",
    "# time_vals = [10, 1000, 10000, 100000, 1000000]\n",
    "# emri_array = [1, 100, 1000, 4000]\n",
    "# mbh_array = [1,2,3]\n",
    "# position_array = [1,2,3,4,5]"
   ]
  },
  {
   "cell_type": "code",
   "execution_count": 5,
   "metadata": {},
   "outputs": [],
   "source": [
    "# Sample MC values\n",
    "time_vals = [500000]\n",
    "emri_array = [5000]\n",
    "mbh_array = [50]\n",
    "position_array = [1]"
   ]
  },
  {
   "cell_type": "code",
   "execution_count": 6,
   "metadata": {},
   "outputs": [],
   "source": [
    "time_diff = 100000\n",
    "# time_diff = 500\n",
    "mbh_rate = 3\n",
    "emri_rate = 500\n",
    "position_factor = 1"
   ]
  },
  {
   "cell_type": "code",
   "execution_count": 7,
   "metadata": {},
   "outputs": [],
   "source": [
    "def Ang2Vec(theta,phi):\n",
    "    return np.array([np.sin(theta)*np.cos(phi),np.sin(theta)*np.sin(phi),np.cos(theta)])"
   ]
  },
  {
   "cell_type": "code",
   "execution_count": 8,
   "metadata": {},
   "outputs": [],
   "source": [
    "def add_time(count):\n",
    "    msec_in_year = 60*60*24*365*1000\n",
    "    time = np.random.randint(msec_in_year, size=count)\n",
    "    return time"
   ]
  },
  {
   "cell_type": "code",
   "execution_count": 9,
   "metadata": {},
   "outputs": [],
   "source": [
    "# Get a random point on a sphere (uniform distribution). LISA should be fairly uniform and so should IceCube Gen II\n",
    "def random_point(count):\n",
    "    phi = np.random.random(count)*2*np.pi\n",
    "    costheta = np.random.random(count)*2 - 1\n",
    "    theta = np.arccos(costheta)\n",
    "    return np.array([theta, phi]).T"
   ]
  },
  {
   "cell_type": "code",
   "execution_count": 10,
   "metadata": {},
   "outputs": [],
   "source": [
    "def plot_gaussian_event(etheta, ephi, sigma, amp):\n",
    "    theta,phi=hp.pix2ang(NSIDE,np.arange(Npix))\n",
    "    return amp*np.exp(-((phi - ephi)**2+(theta - etheta)**2)/(2*sigma**2))"
   ]
  },
  {
   "cell_type": "code",
   "execution_count": 11,
   "metadata": {},
   "outputs": [],
   "source": [
    "def healpix_smooth(etheta, ephi, sig, amp):\n",
    "    pind = hp.ang2pix(NSIDE, etheta, ephi)\n",
    "    temp = np.zeros(Npix)\n",
    "    temp[pind] = amp\n",
    "    return hp.smoothing(temp, sigma=sig)"
   ]
  },
  {
   "cell_type": "code",
   "execution_count": 74,
   "metadata": {},
   "outputs": [],
   "source": [
    "def lisa_noise(count):\n",
    "    return np.random.normal(size=count)*np.array(lisa_resolution)"
   ]
  },
  {
   "cell_type": "code",
   "execution_count": 70,
   "metadata": {},
   "outputs": [],
   "source": [
    "# category = 0 --> low energy, 1 --> high energy\n",
    "def hen_noise(positions, category):\n",
    "    count = len(positions)\n",
    "    pixinds = hp.ang2pix(NSIDE, positions[:,0], positions[:,1])\n",
    "    if category == 0:\n",
    "        noise_means = low_energy_map[pixinds]\n",
    "    else:\n",
    "        noise_means = high_energy_map[pixinds]\n",
    "    return np.random.normal(size=count)*noise_means"
   ]
  },
  {
   "cell_type": "code",
   "execution_count": 71,
   "metadata": {},
   "outputs": [],
   "source": [
    "# Reduce redundancy! hen=True --> HEN events, hen=False --> GW events\n",
    "# category depends on hen. hen=True: category = 0 --> low energy, 1 --> high energy\n",
    "# hen=False, category = 0 --> EMRI, 1 --> MBH (doesn't matter for now)\n",
    "def general_noise(count, hen, category, points=0):\n",
    "    if hen:\n",
    "        noise_val = hen_noise(points, category)\n",
    "    else:\n",
    "        noise_val = lisa_noise(count)\n",
    "    return noise_val"
   ]
  },
  {
   "cell_type": "code",
   "execution_count": 72,
   "metadata": {},
   "outputs": [],
   "source": [
    "def general_event(poisson_lambda, hen, category):\n",
    "    k = np.random.poisson(lam=poisson_lambda)\n",
    "    points = random_point(k)\n",
    "    noise = general_noise(k, hen, category, points).T\n",
    "    time = add_time(k)\n",
    "    return [points, noise, time]"
   ]
  },
  {
   "cell_type": "code",
   "execution_count": 14,
   "metadata": {},
   "outputs": [],
   "source": [
    "def make_hp_map(points, noise):\n",
    "    temp_map = np.zeros(Npix)\n",
    "    for i,v in enumerate(points):\n",
    "        temp_map += healpix_smooth(*v, noise[i], 1)\n",
    "    return temp_map"
   ]
  },
  {
   "cell_type": "code",
   "execution_count": 15,
   "metadata": {},
   "outputs": [],
   "source": [
    "def position_overlap(p1, p2, n1, n2):\n",
    "    pvec1 = hp.ang2vec(*p1)\n",
    "    pvec2 = hp.ang2vec(*p2)\n",
    "    p1_disk = hp.query_disc(256, pvec1, n1*position_factor, inclusive=True)\n",
    "    p2_disk = hp.query_disc(256, pvec2, n2*position_factor, inclusive=True)\n",
    "    overlap = np.intersect1d(p1_disk, p2_disk)\n",
    "    return len(overlap)"
   ]
  },
  {
   "cell_type": "code",
   "execution_count": 16,
   "metadata": {},
   "outputs": [],
   "source": [
    "def position_coincident(p1, p2, n1, n2):\n",
    "    pvec1 = Ang2Vec(*p1)\n",
    "    pvec2 = Ang2Vec(*p2)\n",
    "    dist = np.linalg.norm(pvec1 - pvec2)\n",
    "    if dist < (n1 + n2)*position_factor:\n",
    "        return True\n",
    "    else:\n",
    "        return False"
   ]
  },
  {
   "cell_type": "code",
   "execution_count": 17,
   "metadata": {},
   "outputs": [],
   "source": [
    "def time_coincident(t1, t2):\n",
    "    d = {}\n",
    "    for i,v in enumerate(t1):\n",
    "        h = np.abs(v - t2)\n",
    "        a = np.where(h <= time_diff)[0]\n",
    "        if a.shape[0] > 0:\n",
    "            d[i] = a\n",
    "    return d"
   ]
  },
  {
   "cell_type": "code",
   "execution_count": 18,
   "metadata": {},
   "outputs": [],
   "source": [
    "def overlap(e1, n1, t1, e2, n2, t2, number=True):\n",
    "    time_worthy = time_coincident(t1, t2)\n",
    "    overlap_counter = 0\n",
    "    pairs_overlap = []\n",
    "    noise_overlap = []\n",
    "    for i,v in enumerate(time_worthy):\n",
    "        pos_1 = e1[v]\n",
    "        noise_1 = np.linalg.norm(n1[v])\n",
    "        for k in time_worthy[v]:\n",
    "            pos_2 = e2[k]\n",
    "            noise_2 = np.linalg.norm(n2[k])\n",
    "            l = position_coincident(pos_1, pos_2, noise_1, noise_2)\n",
    "            if l:\n",
    "                if not number:\n",
    "                    pairs_overlap.append([pos_1,pos_2])\n",
    "                    noise_overlap.append([noise_1, noise_2])\n",
    "                overlap_counter += 1\n",
    "    \n",
    "    return overlap_counter, pairs_overlap, noise_overlap"
   ]
  },
  {
   "cell_type": "code",
   "execution_count": 19,
   "metadata": {},
   "outputs": [],
   "source": [
    "def monte_carlo_run(number):\n",
    "    low = general_event(low_energy_rate, True, 0)\n",
    "    high = general_event(high_energy_rate, True, 1)\n",
    "    emri = general_event(emri_rate, False, 0)\n",
    "    mbh = general_event(mbh_rate, False, 1)\n",
    "    l_e, le_p, le_n = overlap(*low, *emri, number)\n",
    "    l_m, lm_p, lm_n = overlap(*low, *mbh, number)\n",
    "    h_e, he_p, he_n = overlap(*high, *emri, number)\n",
    "    h_m, hm_p, hm_n = overlap(*high, *mbh, number)\n",
    "    \n",
    "    return np.array([l_e, l_m, h_e, h_m]), np.array([le_p,lm_p,he_p,hm_p]), np.array([le_n, lm_n, he_n, hm_n])"
   ]
  },
  {
   "cell_type": "code",
   "execution_count": 20,
   "metadata": {},
   "outputs": [],
   "source": [
    "def mc_big_hammer(number, n=100, make_arrays=False, make_plots=False):\n",
    "    global time_diff\n",
    "    global emri_rate\n",
    "    global mbh_rate\n",
    "    global position_factor\n",
    "    with open('output/monte_run.csv', 'w') as csvfile:\n",
    "        a = csv.writer(csvfile)\n",
    "        header = ['n', 'time_diff', 'position_factor', 'emri', 'mbh', 'total_coincident']\n",
    "        a.writerow(header)\n",
    "    with open('output/total_run.csv', 'w') as csvfile:\n",
    "        b = csv.writer(csvfile)\n",
    "        header = ['n', 'time_diff', 'position_factor', 'emri', 'mbh', 'total_coincident']\n",
    "        b.writerow(header)\n",
    "    for i in time_vals:\n",
    "        time_diff = i\n",
    "        for j in emri_array:\n",
    "            emri_rate = j\n",
    "            for k in mbh_array:\n",
    "                mbh_rate = k\n",
    "                for l in position_array:\n",
    "                    lval=[]\n",
    "                    position_factor = l\n",
    "                    for m in tqdm(range(n)):\n",
    "                        monte_data,points,noise = monte_carlo_run(number)\n",
    "                        total = np.sum(monte_data)\n",
    "                        lval.append(total)\n",
    "                        monte_name = 'monte_big_time%i_emri%i_mbh%i_pos%i_%i_' % (i, j, k, l, m)\n",
    "                        if make_arrays:\n",
    "                            np.save('output/' + monte_name, monte_data)\n",
    "                        if total > 0 and make_plots:\n",
    "                            big_map = np.zeros(Npix)\n",
    "                            for map_index in range(len(points)):\n",
    "                                temp_map = np.zeros(Npix)\n",
    "                                if monte_data[map_index] == 0:\n",
    "                                    continue\n",
    "                                noises = []\n",
    "                                pointses = []\n",
    "                                for pair_ind in range(len(noise[map_index])):\n",
    "                                    noises += noise[map_index][pair_ind]\n",
    "                                    pointses += points[map_index][pair_ind]\n",
    "                                temp_map += make_hp_map(pointses, noises)\n",
    "                                big_map += temp_map\n",
    "                                \n",
    "                                np.save('maps/'+monte_name+'map_'+str(map_index),temp_map)\n",
    "                                hp.mollview(temp_map)\n",
    "                                plt.savefig('maps/'+monte_name+'mollview_'+str(map_index))\n",
    "                                plt.close()\n",
    "                            hp.mollview(big_map)\n",
    "                            plt.savefig('maps/'+monte_name+'mollview')\n",
    "                            plt.close()\n",
    "                        with open('output/monte_run.csv', 'a') as csvfile:\n",
    "                            c = csv.writer(csvfile)\n",
    "                            data = [m,i,l,j,k,total]\n",
    "                            c.writerow(data)\n",
    "                    run_total = np.sum(lval)\n",
    "                    with open('output/total_run.csv', 'a') as csvfile:\n",
    "                        d = csv.writer(csvfile)\n",
    "                        data = [n,i,l,j,k,run_total]\n",
    "                        d.writerow(data)\n",
    "                    if make_arrays:\n",
    "                        array_name = 'lval_big_time%i_emri%i_mbh%i_pos%i_%i_' % (i, j, k, l, n)\n",
    "                        np.save('output/' + array_name, lval)\n",
    "                    if make_plots:\n",
    "                        plt.hist(lval);\n",
    "                        plt.savefig('images/' + array_name)\n",
    "                        plt.close()"
   ]
  },
  {
   "cell_type": "code",
   "execution_count": 21,
   "metadata": {},
   "outputs": [],
   "source": [
    "def mc(number, n=100):\n",
    "    lval = []\n",
    "    for i in tqdm(range(n)):\n",
    "        k, _, _ = monte_carlo_run(number)\n",
    "        lval.append(k)\n",
    "    return lval"
   ]
  },
  {
   "cell_type": "code",
   "execution_count": 80,
   "metadata": {},
   "outputs": [
    {
     "data": {
      "application/vnd.jupyter.widget-view+json": {
       "model_id": "273b2f56bcb14278b3027c13618324f4",
       "version_major": 2,
       "version_minor": 0
      },
      "text/plain": [
       "HBox(children=(IntProgress(value=0, max=1000), HTML(value='')))"
      ]
     },
     "metadata": {},
     "output_type": "display_data"
    },
    {
     "name": "stdout",
     "output_type": "stream",
     "text": [
      "\n"
     ]
    }
   ],
   "source": [
    "n = 1000\n",
    "m = np.array(mc(False, n))"
   ]
  },
  {
   "cell_type": "code",
   "execution_count": 89,
   "metadata": {},
   "outputs": [
    {
     "data": {
      "text/plain": [
       "<BarContainer object of 4 artists>"
      ]
     },
     "execution_count": 89,
     "metadata": {},
     "output_type": "execute_result"
    },
    {
     "data": {
      "image/png": "[encoded data removed]",
      "text/plain": [
       "<Figure size 432x288 with 1 Axes>"
      ]
     },
     "metadata": {
      "image/png": {
       "height": 250,
       "width": 370
      },
      "needs_background": "light"
     },
     "output_type": "display_data"
    }
   ],
   "source": [
    "plt.bar([\"low+emri\", \"low+mbh\", \"high+emri\", \"high+mbh\"], np.sum(m, axis=0))"
   ]
  },
  {
   "cell_type": "code",
   "execution_count": 85,
   "metadata": {},
   "outputs": [
    {
     "name": "stdout",
     "output_type": "stream",
     "text": [
      "29 µs ± 247 ns per loop (mean ± std. dev. of 7 runs, 10000 loops each)\n"
     ]
    }
   ],
   "source": [
    "%timeit general_event(low_energy_rate, True, 0)"
   ]
  },
  {
   "cell_type": "code",
   "execution_count": 86,
   "metadata": {},
   "outputs": [],
   "source": [
    "low = general_event(low_energy_rate, True, 0)\n",
    "emri = general_event(emri_rate, False, 0)\n",
    "l_e, le_p, le_n = overlap(*low, *emri)"
   ]
  },
  {
   "cell_type": "code",
   "execution_count": 89,
   "metadata": {},
   "outputs": [
    {
     "name": "stdout",
     "output_type": "stream",
     "text": [
      "252 µs ± 5.82 µs per loop (mean ± std. dev. of 7 runs, 1000 loops each)\n"
     ]
    }
   ],
   "source": [
    "%timeit new_overlap(*low, *emri)"
   ]
  },
  {
   "cell_type": "code",
   "execution_count": 88,
   "metadata": {},
   "outputs": [],
   "source": [
    "def new_overlap(e1, n1, t1, e2, n2, t2):\n",
    "    if len(e1) > len(e2):\n",
    "        time_worthy = time_coincident(t2, t1)\n",
    "    else:\n",
    "        time_worthy = time_coincident(t1, t2)\n",
    "    \n",
    "    overlap_counter = 0\n",
    "    for i,v in enumerate(time_worthy):\n",
    "        pos_1 = e1[v]\n",
    "        noise_1 = np.linalg.norm(n1[v])\n",
    "        for k in time_worthy[v]:\n",
    "            pos_2 = e2[k]\n",
    "            noise_2 = np.linalg.norm(n2[k])\n",
    "            l = position_coincident(pos_1, pos_2, noise_1, noise_2)\n",
    "            if l:\n",
    "                overlap_counter += 1\n",
    "    return overlap_counter"
   ]
  },
  {
   "cell_type": "code",
   "execution_count": 334,
   "metadata": {},
   "outputs": [
    {
     "name": "stdout",
     "output_type": "stream",
     "text": [
      "2.23 ms ± 43.1 µs per loop (mean ± std. dev. of 7 runs, 100 loops each)\n"
     ]
    }
   ],
   "source": [
    "%timeit new_overlap(*emri, *low)"
   ]
  },
  {
   "cell_type": "code",
   "execution_count": 304,
   "metadata": {},
   "outputs": [],
   "source": [
    "def fast_time(t1, t2):\n",
    "    d = {}\n",
    "    for i,v in enumerate(t1):\n",
    "        h = np.abs(v - t2)\n",
    "        a = np.where(h <= time_diff)[0]\n",
    "        if len(a) > 0:\n",
    "            d[i] = a\n",
    "    return d"
   ]
  },
  {
   "cell_type": "code",
   "execution_count": 337,
   "metadata": {},
   "outputs": [
    {
     "name": "stdout",
     "output_type": "stream",
     "text": [
      "2.22 ms ± 51.7 µs per loop (mean ± std. dev. of 7 runs, 100 loops each)\n"
     ]
    }
   ],
   "source": [
    "%timeit time_coincident(emri[2], low[2])"
   ]
  },
  {
   "cell_type": "code",
   "execution_count": null,
   "metadata": {},
   "outputs": [],
   "source": [
    "overlap()"
   ]
  },
  {
   "cell_type": "code",
   "execution_count": 272,
   "metadata": {},
   "outputs": [
    {
     "data": {
      "text/plain": [
       "array([13502142596, 10024403766,  7904012820, ..., 21789529434,\n",
       "       30132330654, 26412256554])"
      ]
     },
     "execution_count": 272,
     "metadata": {},
     "output_type": "execute_result"
    }
   ],
   "source": [
    "emri[2]"
   ]
  },
  {
   "cell_type": "code",
   "execution_count": 277,
   "metadata": {},
   "outputs": [],
   "source": [
    "def faster_time(t1, t2):\n",
    "    in_range_ary = []\n",
    "    for x in t1:\n",
    "        in_range = [ i for i in range(len(t2)) if (abs(t2[i]-x) < time_diff) ]\n",
    "        in_range_ary.append(in_range)\n",
    "    return in_range_ary"
   ]
  },
  {
   "cell_type": "code",
   "execution_count": 302,
   "metadata": {},
   "outputs": [],
   "source": [
    "nft = faster_time(low[2], emri[2])"
   ]
  },
  {
   "cell_type": "code",
   "execution_count": 303,
   "metadata": {},
   "outputs": [],
   "source": [
    "pft = fast_time(low[2], emri[2])"
   ]
  },
  {
   "cell_type": "code",
   "execution_count": 300,
   "metadata": {},
   "outputs": [
    {
     "data": {
      "text/plain": [
       "(array([  51,  130,  160,  171,  183,  184,  248,  282,  342,  381,  388,\n",
       "         425,  523,  532,  538,  626,  633,  699,  719,  738,  797,  899,\n",
       "         943, 1045, 1060, 1069, 1113, 1136, 1188, 1193, 1207, 1221, 1231,\n",
       "        1240, 1313, 1336, 1352, 1357, 1364, 1418, 1461, 1474, 1476, 1568,\n",
       "        1570, 1621, 1627, 1664, 1697, 1790, 1859, 1864, 1865, 1875, 1952]),)"
      ]
     },
     "execution_count": 300,
     "metadata": {},
     "output_type": "execute_result"
    }
   ],
   "source": [
    "np.nonzero(nft)"
   ]
  },
  {
   "cell_type": "code",
   "execution_count": 322,
   "metadata": {},
   "outputs": [
    {
     "data": {
      "text/plain": [
       "{51: array([2261]),\n",
       " 130: array([3319]),\n",
       " 160: array([453]),\n",
       " 171: array([3976]),\n",
       " 183: array([74]),\n",
       " 184: array([3961]),\n",
       " 248: array([2861]),\n",
       " 282: array([976]),\n",
       " 342: array([250]),\n",
       " 381: array([3026]),\n",
       " 388: array([2299]),\n",
       " 425: array([113]),\n",
       " 523: array([1128]),\n",
       " 532: array([4976]),\n",
       " 538: array([3494]),\n",
       " 626: array([4794]),\n",
       " 633: array([3108]),\n",
       " 699: array([3407]),\n",
       " 719: array([4053]),\n",
       " 738: array([4835]),\n",
       " 797: array([4959]),\n",
       " 899: array([3770]),\n",
       " 943: array([1995]),\n",
       " 1045: array([168]),\n",
       " 1060: array([2680]),\n",
       " 1069: array([408]),\n",
       " 1113: array([3803]),\n",
       " 1136: array([3878]),\n",
       " 1188: array([2537]),\n",
       " 1193: array([4916]),\n",
       " 1207: array([1383]),\n",
       " 1221: array([1296]),\n",
       " 1231: array([4082]),\n",
       " 1240: array([4407]),\n",
       " 1313: array([2756]),\n",
       " 1336: array([3570]),\n",
       " 1352: array([174]),\n",
       " 1357: array([1698]),\n",
       " 1364: array([5025]),\n",
       " 1418: array([2566]),\n",
       " 1461: array([4094]),\n",
       " 1474: array([1445]),\n",
       " 1476: array([1537]),\n",
       " 1568: array([1613]),\n",
       " 1570: array([1463]),\n",
       " 1621: array([3575]),\n",
       " 1627: array([2743]),\n",
       " 1664: array([2889]),\n",
       " 1697: array([3371]),\n",
       " 1790: array([2127]),\n",
       " 1859: array([4663]),\n",
       " 1864: array([1718]),\n",
       " 1865: array([3969]),\n",
       " 1875: array([2910]),\n",
       " 1952: array([2394])}"
      ]
     },
     "execution_count": 322,
     "metadata": {},
     "output_type": "execute_result"
    }
   ],
   "source": [
    "pft"
   ]
  },
  {
   "cell_type": "code",
   "execution_count": 315,
   "metadata": {},
   "outputs": [],
   "source": [
    "def add_me(x,y):\n",
    "    return x+y"
   ]
  },
  {
   "cell_type": "code",
   "execution_count": 321,
   "metadata": {},
   "outputs": [
    {
     "data": {
      "text/plain": [
       "9"
      ]
     },
     "execution_count": 321,
     "metadata": {},
     "output_type": "execute_result"
    }
   ],
   "source": [
    "add_me(*[5,4])"
   ]
  },
  {
   "cell_type": "code",
   "execution_count": null,
   "metadata": {},
   "outputs": [],
   "source": []
  }
 ],
 "metadata": {
  "kernelspec": {
   "display_name": "Python 3",
   "language": "python",
   "name": "python3"
  },
  "language_info": {
   "codemirror_mode": {
    "name": "ipython",
    "version": 3
   },
   "file_extension": ".py",
   "mimetype": "text/x-python",
   "name": "python",
   "nbconvert_exporter": "python",
   "pygments_lexer": "ipython3",
   "version": "3.7.2"
  }
 },
 "nbformat": 4,
 "nbformat_minor": 4
}
