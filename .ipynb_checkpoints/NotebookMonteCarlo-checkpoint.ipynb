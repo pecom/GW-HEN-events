{
 "cells": [
  {
   "cell_type": "code",
   "execution_count": 58,
   "metadata": {},
   "outputs": [],
   "source": [
    "import numpy as np\n",
    "import astropy as ap\n",
    "import scipy as sp\n",
    "from scipy import stats\n",
    "import healpy as hp\n",
    "import matplotlib.pyplot as plt\n",
    "import tqdm\n",
    "import csv"
   ]
  },
  {
   "cell_type": "code",
   "execution_count": 206,
   "metadata": {},
   "outputs": [],
   "source": [
    "%matplotlib inline\n",
    "# %config InlineBackend.figure_format='retina'"
   ]
  },
  {
   "cell_type": "code",
   "execution_count": 30,
   "metadata": {},
   "outputs": [],
   "source": [
    "# Constants and other setup variables. Event rates are events/year. Spherical points should be (theta, phi)\n",
    "# low_energy_resolution = .5*np.pi/180     (NO longer useful)\n",
    "# high_energy_resolution = .3*np.pi/180    (NO longer useful)\n",
    "lisa_resolution = 1*np.pi/180\n",
    "NSIDE = 128\n",
    "Npix = hp.nside2npix(NSIDE)"
   ]
  },
  {
   "cell_type": "code",
   "execution_count": 31,
   "metadata": {},
   "outputs": [],
   "source": [
    "# low_energy_map = np.zeros(Npix) + low_energy_resolution + np.random.rand(Npix)\n",
    "# high_energy_map = np.zeros(Npix) + high_energy_resolution + np.random.rand(Npix)"
   ]
  },
  {
   "cell_type": "code",
   "execution_count": 32,
   "metadata": {},
   "outputs": [],
   "source": [
    "# Monte Carlo values\n",
    "# time_vals = [10, 1000, 10000, 100000, 1000000]\n",
    "# emri_array = [1, 100, 1000, 4000]\n",
    "# mbh_array = [1,2,3]\n",
    "# position_array = [1,2,3,4,5]"
   ]
  },
  {
   "cell_type": "code",
   "execution_count": 33,
   "metadata": {},
   "outputs": [],
   "source": [
    "# Sample MC values\n",
    "time_vals = [500000]\n",
    "emri_array = [5000]\n",
    "mbh_array = [50]\n",
    "position_array = [1]"
   ]
  },
  {
   "cell_type": "code",
   "execution_count": 627,
   "metadata": {},
   "outputs": [],
   "source": [
    "# time_diff = 100000\n",
    "low_energy_rate = 50\n",
    "high_energy_rate = 70\n",
    "time_diff = 500 #usually 500\n",
    "mbh_rate = 3\n",
    "emri_rate = 500 #usually 500\n",
    "position_factor = 1\n",
    "msec_in_year = 60*60*24*365"
   ]
  },
  {
   "cell_type": "code",
   "execution_count": 35,
   "metadata": {},
   "outputs": [],
   "source": [
    "def Ang2Vec(theta,phi):\n",
    "    return np.array([np.sin(theta)*np.cos(phi),np.sin(theta)*np.sin(phi),np.cos(theta)])"
   ]
  },
  {
   "cell_type": "code",
   "execution_count": 383,
   "metadata": {},
   "outputs": [],
   "source": [
    "def add_time(count):\n",
    "    time = np.random.randint(msec_in_year, size=count)\n",
    "    return time"
   ]
  },
  {
   "cell_type": "code",
   "execution_count": 37,
   "metadata": {},
   "outputs": [],
   "source": [
    "# Get a random point on a sphere (uniform distribution). LISA should be fairly uniform and so should IceCube Gen II\n",
    "def random_point(count):\n",
    "    phi = np.random.random(count)*2*np.pi\n",
    "    costheta = np.random.random(count)*2 - 1\n",
    "    theta = np.arccos(costheta)\n",
    "    return np.array([theta, phi]).T"
   ]
  },
  {
   "cell_type": "code",
   "execution_count": 38,
   "metadata": {},
   "outputs": [],
   "source": [
    "def plot_gaussian_event(etheta, ephi, sigma, amp):\n",
    "    theta,phi=hp.pix2ang(NSIDE,np.arange(Npix))\n",
    "    return amp*np.exp(-((phi - ephi)**2+(theta - etheta)**2)/(2*sigma**2))"
   ]
  },
  {
   "cell_type": "code",
   "execution_count": 39,
   "metadata": {},
   "outputs": [],
   "source": [
    "def healpix_smooth(etheta, ephi, sig, amp):\n",
    "    pind = hp.ang2pix(NSIDE, etheta, ephi)\n",
    "    temp = np.zeros(Npix)\n",
    "    temp[pind] = amp\n",
    "    return hp.smoothing(temp, sigma=sig)"
   ]
  },
  {
   "cell_type": "code",
   "execution_count": 464,
   "metadata": {},
   "outputs": [],
   "source": [
    "def lisa_noise(count):\n",
    "#     return np.random.normal(size=count)*np.array(lisa_resolution)\n",
    "    return np.ones(count)*lisa_resolution"
   ]
  },
  {
   "cell_type": "code",
   "execution_count": 465,
   "metadata": {},
   "outputs": [],
   "source": [
    "def hen_noise_fn(theta, const):\n",
    "    costhet = np.cos(theta)\n",
    "    return (const*costhet**2 +.2)*np.pi/180"
   ]
  },
  {
   "cell_type": "code",
   "execution_count": 466,
   "metadata": {},
   "outputs": [],
   "source": [
    "# category = 0 --> low energy, 1 --> high energy\n",
    "def hen_noise(positions, category):\n",
    "    thets = positions[:,0]\n",
    "    count = len(positions)\n",
    "    if category == 0:\n",
    "        noise_means = hen_noise_fn(thets, .9)\n",
    "    else:\n",
    "        noise_means = hen_noise_fn(thets, .4)\n",
    "#     return np.random.normal(loc=noise_means, scale=np.sqrt(noise_means), size=count)\n",
    "    return np.ones(count)*noise_means"
   ]
  },
  {
   "cell_type": "code",
   "execution_count": 470,
   "metadata": {},
   "outputs": [],
   "source": [
    "# hen=True --> HEN events, hen=False --> GW events\n",
    "# category depends on hen. hen=True: category = 0 --> low energy, 1 --> high energy\n",
    "# hen=False, category = 0 --> EMRI, 1 --> MBH (doesn't matter for now)\n",
    "def general_noise(count, hen, category, points=0):\n",
    "    if hen:\n",
    "        noise_val = hen_noise(points, category)\n",
    "    else:\n",
    "        noise_val = lisa_noise(count)\n",
    "    return noise_val"
   ]
  },
  {
   "cell_type": "code",
   "execution_count": 471,
   "metadata": {},
   "outputs": [],
   "source": [
    "def general_event(poisson_lambda, hen, category):\n",
    "    k = np.random.poisson(lam=poisson_lambda)\n",
    "    points = random_point(k)\n",
    "    noise = general_noise(k, hen, category, points).T\n",
    "    time = add_time(k)\n",
    "    return [points, noise, time]"
   ]
  },
  {
   "cell_type": "code",
   "execution_count": 472,
   "metadata": {},
   "outputs": [],
   "source": [
    "def make_hp_map(points, noise):\n",
    "    temp_map = np.zeros(Npix)\n",
    "    for i,v in enumerate(points):\n",
    "        temp_map += healpix_smooth(*v, noise[i], 1)\n",
    "    return temp_map"
   ]
  },
  {
   "cell_type": "code",
   "execution_count": 473,
   "metadata": {},
   "outputs": [],
   "source": [
    "def position_coincident(p1, p2, n1, n2):\n",
    "    pvec1 = Ang2Vec(*p1)\n",
    "    pvec2 = Ang2Vec(*p2)\n",
    "    dist = np.linalg.norm(pvec1 - pvec2)\n",
    "    if dist < (n1 + n2)*position_factor:\n",
    "        return True\n",
    "    else:\n",
    "        return False"
   ]
  },
  {
   "cell_type": "code",
   "execution_count": 612,
   "metadata": {},
   "outputs": [],
   "source": [
    "def time_coincident(t1, t2):\n",
    "    d = {}\n",
    "    keys, vals = np.where(np.abs(np.subtract.outer(t1, t2)) <= time_diff)\n",
    "#     for i in range(len(keys)):\n",
    "#         d[keys[i]] = vals[i]\n",
    "    return keys, vals"
   ]
  },
  {
   "cell_type": "code",
   "execution_count": 611,
   "metadata": {},
   "outputs": [],
   "source": [
    "def overlap(e1, n1, t1, e2, n2, t2, number=True):\n",
    "    ks, vs = time_coincident(t1, t2)\n",
    "    overlap_counter = 0\n",
    "    pairs_overlap = []\n",
    "    noise_overlap = []\n",
    "    for i,v in enumerate(ks):\n",
    "        pos_1 = e1[v]\n",
    "        noise_1 = n1[v]\n",
    "        pos_2 = e2[vs[i]]\n",
    "        noise_2 = n2[vs[i]]\n",
    "        l = position_coincident(pos_1, pos_2, noise_1, noise_2)\n",
    "        if l:\n",
    "            if not number:\n",
    "                pairs_overlap.append([pos_1,pos_2])\n",
    "                noise_overlap.append([noise_1, noise_2])\n",
    "            overlap_counter += 1\n",
    "    \n",
    "    return overlap_counter, pairs_overlap, noise_overlap"
   ]
  },
  {
   "cell_type": "code",
   "execution_count": 476,
   "metadata": {},
   "outputs": [],
   "source": [
    "def napkin_check(n=1000):\n",
    "    lval = []\n",
    "    clean_n = int(n)\n",
    "    for i in tqdm.notebook.tqdm(range(clean_n)):\n",
    "        high = general_event(high_energy_rate, True, 1)\n",
    "        emri = general_event(emri_rate, False, 0)\n",
    "        h_e, _, _ = overlap(*high, *emri, True)\n",
    "        lval.append(h_e)\n",
    "    return lval"
   ]
  },
  {
   "cell_type": "code",
   "execution_count": 499,
   "metadata": {},
   "outputs": [],
   "source": [
    "def monte_carlo_run(number):\n",
    "    low = general_event(low_energy_rate, True, 0)\n",
    "    high = general_event(high_energy_rate, True, 1)\n",
    "    emri = general_event(emri_rate, False, 0)\n",
    "    mbh = general_event(mbh_rate, False, 1)\n",
    "    l_e, le_p, le_n = overlap(*low, *emri, number)\n",
    "    l_m, lm_p, lm_n = overlap(*low, *mbh, number)\n",
    "    h_e, he_p, he_n = overlap(*high, *emri, number)\n",
    "    h_m, hm_p, hm_n = overlap(*high, *mbh, number)\n",
    "    \n",
    "    return np.array([l_e, l_m, h_e, h_m]), np.array([le_p,lm_p,he_p,hm_p]), np.array([le_n, lm_n, he_n, hm_n])"
   ]
  },
  {
   "cell_type": "code",
   "execution_count": 59,
   "metadata": {
    "jupyter": {
     "source_hidden": true
    }
   },
   "outputs": [],
   "source": [
    "def mc_big_hammer(number, n=100, make_arrays=False, make_plots=False):\n",
    "    global time_diff\n",
    "    global emri_rate\n",
    "    global mbh_rate\n",
    "    global position_factor\n",
    "    with open('output/monte_run.csv', 'w') as csvfile:\n",
    "        a = csv.writer(csvfile)\n",
    "        header = ['n', 'time_diff', 'position_factor', 'emri', 'mbh', 'total_coincident']\n",
    "        a.writerow(header)\n",
    "    with open('output/total_run.csv', 'w') as csvfile:\n",
    "        b = csv.writer(csvfile)\n",
    "        header = ['n', 'time_diff', 'position_factor', 'emri', 'mbh', 'total_coincident']\n",
    "        b.writerow(header)\n",
    "    for i in time_vals:\n",
    "        time_diff = i\n",
    "        for j in emri_array:\n",
    "            emri_rate = j\n",
    "            for k in mbh_array:\n",
    "                mbh_rate = k\n",
    "                for l in position_array:\n",
    "                    lval=[]\n",
    "                    position_factor = l\n",
    "                    for m in tqdm.notebook.tqdm(range(n)):\n",
    "                        monte_data,points,noise = monte_carlo_run(number)\n",
    "                        total = np.sum(monte_data)\n",
    "                        lval.append(total)\n",
    "                        monte_name = 'monte_big_time%i_emri%i_mbh%i_pos%i_%i_' % (i, j, k, l, m)\n",
    "                        if make_arrays:\n",
    "                            np.save('output/' + monte_name, monte_data)\n",
    "                        if total > 0 and make_plots:\n",
    "                            big_map = np.zeros(Npix)\n",
    "                            for map_index in range(len(points)):\n",
    "                                temp_map = np.zeros(Npix)\n",
    "                                if monte_data[map_index] == 0:\n",
    "                                    continue\n",
    "                                noises = []\n",
    "                                pointses = []\n",
    "                                for pair_ind in range(len(noise[map_index])):\n",
    "                                    noises += noise[map_index][pair_ind]\n",
    "                                    pointses += points[map_index][pair_ind]\n",
    "                                temp_map += make_hp_map(pointses, noises)\n",
    "                                big_map += temp_map\n",
    "                                \n",
    "                                np.save('maps/'+monte_name+'map_'+str(map_index),temp_map)\n",
    "                                hp.mollview(temp_map)\n",
    "                                plt.savefig('maps/'+monte_name+'mollview_'+str(map_index))\n",
    "                                plt.close()\n",
    "                            hp.mollview(big_map)\n",
    "                            plt.savefig('maps/'+monte_name+'mollview')\n",
    "                            plt.close()\n",
    "                        with open('output/monte_run.csv', 'a') as csvfile:\n",
    "                            c = csv.writer(csvfile)\n",
    "                            data = [m,i,l,j,k,total]\n",
    "                            c.writerow(data)\n",
    "                    run_total = np.sum(lval)\n",
    "                    with open('output/total_run.csv', 'a') as csvfile:\n",
    "                        d = csv.writer(csvfile)\n",
    "                        data = [n,i,l,j,k,run_total]\n",
    "                        d.writerow(data)\n",
    "                    if make_arrays:\n",
    "                        array_name = 'lval_big_time%i_emri%i_mbh%i_pos%i_%i_' % (i, j, k, l, n)\n",
    "                        np.save('output/' + array_name, lval)\n",
    "                    if make_plots:\n",
    "                        plt.hist(lval);\n",
    "                        plt.savefig('images/' + array_name)\n",
    "                        plt.close()"
   ]
  },
  {
   "cell_type": "code",
   "execution_count": 478,
   "metadata": {},
   "outputs": [],
   "source": [
    "def mc(number, n=100):\n",
    "    lval = []\n",
    "    pval = []\n",
    "    nval = []\n",
    "    for i in tqdm.notebook.tqdm(range(n)):\n",
    "        k, p, n = monte_carlo_run(number)\n",
    "        lval.append(k)\n",
    "        if p.size > 0:\n",
    "            pval.append(p)\n",
    "        if n.size > 0:\n",
    "            nval.append(n)\n",
    "    return lval, pval, nval"
   ]
  },
  {
   "cell_type": "code",
   "execution_count": 479,
   "metadata": {},
   "outputs": [],
   "source": [
    "def get_data(arry):\n",
    "    clean_a = []\n",
    "    for ps in arry:\n",
    "        for p in ps:\n",
    "            if p:\n",
    "                clean_a.append(p[0][0])\n",
    "                clean_a.append(p[0][1])\n",
    "    return clean_a"
   ]
  },
  {
   "cell_type": "code",
   "execution_count": 480,
   "metadata": {},
   "outputs": [],
   "source": [
    "def carlo_plots(positions, noises):\n",
    "    clean_p = get_data(positions)\n",
    "    newp = np.array(clean_p)\n",
    "    clean_n = get_data(noises)\n",
    "    clean_n = np.array(clean_n)\n",
    "    newn = clean_n.flatten()\n",
    "\n",
    "    hp_plot = make_hp_map(newp, newn)\n",
    "    return hp_plot\n",
    "        "
   ]
  },
  {
   "cell_type": "code",
   "execution_count": 303,
   "metadata": {},
   "outputs": [],
   "source": [
    "tpos = get_data(pos)\n",
    "tnos = get_data(ns)"
   ]
  },
  {
   "cell_type": "code",
   "execution_count": 296,
   "metadata": {},
   "outputs": [],
   "source": [
    "rot1 = tpos[2]*180/np.pi"
   ]
  },
  {
   "cell_type": "code",
   "execution_count": 297,
   "metadata": {},
   "outputs": [],
   "source": [
    "rot1[0] = 90 - rot1[0]"
   ]
  },
  {
   "cell_type": "code",
   "execution_count": 302,
   "metadata": {},
   "outputs": [
    {
     "data": {
      "text/plain": [
       "[array([2.41408031, 5.72686935]),\n",
       " array([1.95535901, 5.56367663]),\n",
       " array([2.29876483, 1.84833871]),\n",
       " array([2.76047613, 2.10746475]),\n",
       " array([0.64019149, 5.41964166]),\n",
       " array([0.64163772, 5.13901819]),\n",
       " array([0.19694069, 4.77647712]),\n",
       " array([0.95657646, 1.5690037 ])]"
      ]
     },
     "execution_count": 302,
     "metadata": {},
     "output_type": "execute_result"
    }
   ],
   "source": [
    "tpos"
   ]
  },
  {
   "cell_type": "code",
   "execution_count": 301,
   "metadata": {},
   "outputs": [
    {
     "data": {
      "image/png": "[encoded data removed]",
      "text/plain": [
       "<Figure size 417.6x460.8 with 2 Axes>"
      ]
     },
     "metadata": {
      "image/png": {
       "height": 426,
       "width": 378
      },
      "needs_background": "light"
     },
     "output_type": "display_data"
    }
   ],
   "source": [
    "mapsize = 1000\n",
    "hp.gnomview(tmap, rot=rot1, reso=15, xsize=mapsize, ysize=mapsize)"
   ]
  },
  {
   "cell_type": "code",
   "execution_count": 295,
   "metadata": {},
   "outputs": [
    {
     "data": {
      "image/png": "[encoded data removed]",
      "text/plain": [
       "<Figure size 612x388.8 with 2 Axes>"
      ]
     },
     "metadata": {
      "image/png": {
       "height": 370,
       "width": 601
      },
      "needs_background": "light"
     },
     "output_type": "display_data"
    }
   ],
   "source": [
    "hp.mollview(tmap)"
   ]
  },
  {
   "cell_type": "code",
   "execution_count": 245,
   "metadata": {
    "collapsed": true,
    "jupyter": {
     "outputs_hidden": true
    }
   },
   "outputs": [
    {
     "name": "stdout",
     "output_type": "stream",
     "text": [
      "Sigma is 2579.670240 arcmin (0.750396 rad) \n",
      "-> fwhm is 6074.659191 arcmin\n",
      "Sigma is 0.000000 arcmin (0.000000 rad) \n",
      "-> fwhm is 0.000000 arcmin\n",
      "Sigma is 66.580372 arcmin (0.019367 rad) \n",
      "-> fwhm is 156.784794 arcmin\n",
      "Sigma is 0.000000 arcmin (0.000000 rad) \n",
      "-> fwhm is 0.000000 arcmin\n",
      "Sigma is 2104.915838 arcmin (0.612295 rad) \n",
      "-> fwhm is 4956.698008 arcmin\n",
      "Sigma is 0.000000 arcmin (0.000000 rad) \n",
      "-> fwhm is 0.000000 arcmin\n",
      "Sigma is 90.236959 arcmin (0.026249 rad) \n",
      "-> fwhm is 212.491801 arcmin\n",
      "Sigma is 0.000000 arcmin (0.000000 rad) \n",
      "-> fwhm is 0.000000 arcmin\n",
      "Sigma is 1430.638454 arcmin (0.416156 rad) \n",
      "-> fwhm is 3368.896110 arcmin\n",
      "Sigma is 0.000000 arcmin (0.000000 rad) \n",
      "-> fwhm is 0.000000 arcmin\n",
      "Sigma is 80.679796 arcmin (0.023469 rad) \n",
      "-> fwhm is 189.986402 arcmin\n",
      "Sigma is 0.000000 arcmin (0.000000 rad) \n",
      "-> fwhm is 0.000000 arcmin\n",
      "Sigma is 4026.665179 arcmin (1.171309 rad) \n",
      "-> fwhm is 9482.071878 arcmin\n",
      "Sigma is 0.000000 arcmin (0.000000 rad) \n",
      "-> fwhm is 0.000000 arcmin\n",
      "Sigma is 61.741254 arcmin (0.017960 rad) \n",
      "-> fwhm is 145.389544 arcmin\n",
      "Sigma is 0.000000 arcmin (0.000000 rad) \n",
      "-> fwhm is 0.000000 arcmin\n"
     ]
    }
   ],
   "source": [
    "tmap = carlo_plots(pos, ns);"
   ]
  },
  {
   "cell_type": "code",
   "execution_count": 709,
   "metadata": {},
   "outputs": [],
   "source": [
    "low_energy_rate = 50\n",
    "high_energy_rate = 70\n",
    "time_diff = 1e5 #usually 500\n",
    "mbh_rate = 30\n",
    "emri_rate = 70 #usually 500\n",
    "position_factor = 1"
   ]
  },
  {
   "cell_type": "code",
   "execution_count": 710,
   "metadata": {},
   "outputs": [],
   "source": [
    "timelog = int(np.log10(time_diff))\n",
    "gwe = int(np.log10(mbh_rate + emri_rate))"
   ]
  },
  {
   "cell_type": "code",
   "execution_count": 711,
   "metadata": {},
   "outputs": [
    {
     "data": {
      "text/plain": [
       "(array([0, 0, 0, 0]),\n",
       " array([], shape=(4, 0), dtype=float64),\n",
       " array([], shape=(4, 0), dtype=float64))"
      ]
     },
     "execution_count": 711,
     "metadata": {},
     "output_type": "execute_result"
    }
   ],
   "source": [
    "monte_carlo_run(False)"
   ]
  },
  {
   "cell_type": "code",
   "execution_count": null,
   "metadata": {},
   "outputs": [
    {
     "data": {
      "application/vnd.jupyter.widget-view+json": {
       "model_id": "3ebf44ca9ad74078923ff6e9596ef1ec",
       "version_major": 2,
       "version_minor": 0
      },
      "text/plain": [
       "HBox(children=(FloatProgress(value=0.0, max=1000000.0), HTML(value='')))"
      ]
     },
     "metadata": {},
     "output_type": "display_data"
    }
   ],
   "source": [
    "n = int(1e6)\n",
    "m, pos, ns = np.array(mc(False, n))"
   ]
  },
  {
   "cell_type": "code",
   "execution_count": null,
   "metadata": {},
   "outputs": [],
   "source": [
    "np.sum(m)"
   ]
  },
  {
   "cell_type": "code",
   "execution_count": null,
   "metadata": {},
   "outputs": [],
   "source": [
    "plt.bar([\"low+emri\", \"low+mbh\", \"high+emri\", \"high+mbh\"], np.sum(m, axis=0))\n",
    "plt.title(\"Time delta 10^%i with GWE 10^%i\" % (timelog, gwe))"
   ]
  },
  {
   "cell_type": "code",
   "execution_count": 632,
   "metadata": {},
   "outputs": [],
   "source": [
    "high = general_event(70, True, 0)\n",
    "emri = general_event(500, False, 0)\n",
    "h_e, he_p, he_n = overlap(*high, *emri)"
   ]
  },
  {
   "cell_type": "code",
   "execution_count": 637,
   "metadata": {},
   "outputs": [
    {
     "data": {
      "application/vnd.jupyter.widget-view+json": {
       "model_id": "98097ab06c174ca3a1147a17d6aaa176",
       "version_major": 2,
       "version_minor": 0
      },
      "text/plain": [
       "HBox(children=(FloatProgress(value=0.0, max=1000.0), HTML(value='')))"
      ]
     },
     "metadata": {},
     "output_type": "display_data"
    },
    {
     "name": "stdout",
     "output_type": "stream",
     "text": [
      "\n"
     ]
    }
   ],
   "source": [
    "nap_check = napkin_check(1e3)"
   ]
  },
  {
   "cell_type": "code",
   "execution_count": 638,
   "metadata": {},
   "outputs": [
    {
     "data": {
      "text/plain": [
       "0.221"
      ]
     },
     "execution_count": 638,
     "metadata": {},
     "output_type": "execute_result"
    }
   ],
   "source": [
    "np.mean(nap_check)"
   ]
  },
  {
   "cell_type": "code",
   "execution_count": null,
   "metadata": {},
   "outputs": [],
   "source": []
  }
 ],
 "metadata": {
  "kernelspec": {
   "display_name": "Python 3",
   "language": "python",
   "name": "python3"
  },
  "language_info": {
   "codemirror_mode": {
    "name": "ipython",
    "version": 3
   },
   "file_extension": ".py",
   "mimetype": "text/x-python",
   "name": "python",
   "nbconvert_exporter": "python",
   "pygments_lexer": "ipython3",
   "version": "3.8.3"
  }
 },
 "nbformat": 4,
 "nbformat_minor": 4
}
