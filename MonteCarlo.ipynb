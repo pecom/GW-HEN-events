{
 "cells": [
  {
   "cell_type": "code",
   "execution_count": 1,
   "metadata": {},
   "outputs": [],
   "source": [
    "import numpy as np\n",
    "import astropy as ap\n",
    "import scipy as sp\n",
    "from scipy import stats\n",
    "import healpy as hp\n",
    "import matplotlib.pyplot as plt\n",
    "from tqdm import tqdm_notebook as tqdm"
   ]
  },
  {
   "cell_type": "code",
   "execution_count": 65,
   "metadata": {},
   "outputs": [],
   "source": [
    "%matplotlib inline\n",
    "%config InlineBackend.figure_format='retina'"
   ]
  },
  {
   "cell_type": "code",
   "execution_count": 41,
   "metadata": {},
   "outputs": [],
   "source": [
    "# Constants and other setup variables. Event rates are events/year. Spherical points should be (theta, phi)\n",
    "low_energy_rate = 50\n",
    "high_energy_rate = 70\n",
    "low_energy_resolution = (.3, .3)\n",
    "high_energy_resolution = (.3, .3)\n",
    "lisa_resolution = (.3, .3)\n",
    "NSIDE = 128\n",
    "Npix = hp.nside2npix(NSIDE)"
   ]
  },
  {
   "cell_type": "code",
   "execution_count": 46,
   "metadata": {},
   "outputs": [],
   "source": [
    "# Monte Carlo values\n",
    "# time_vals = [10, 1000, 10000, 100000, 1000000]\n",
    "# emri_array = [1, 100, 1000, 4000]\n",
    "# mbh_array = [1,2,3]\n",
    "# position_array = [1,2,3,4,5]"
   ]
  },
  {
   "cell_type": "code",
   "execution_count": 114,
   "metadata": {},
   "outputs": [],
   "source": [
    "# Sample MC values\n",
    "time_vals = [10, 1000]\n",
    "emri_array = [100, 1000]\n",
    "mbh_array = [3]\n",
    "position_array = [1,2]"
   ]
  },
  {
   "cell_type": "code",
   "execution_count": 108,
   "metadata": {},
   "outputs": [],
   "source": [
    "time_diff = 100000\n",
    "mbh_rate = 3\n",
    "emri_rate = 50\n",
    "position_factor = 1"
   ]
  },
  {
   "cell_type": "code",
   "execution_count": 4,
   "metadata": {},
   "outputs": [],
   "source": [
    "def add_time():\n",
    "    time = np.random.randint(86400*365*1000)\n",
    "    return time"
   ]
  },
  {
   "cell_type": "code",
   "execution_count": 5,
   "metadata": {},
   "outputs": [],
   "source": [
    "# Get a random point on a sphere (uniform distribution). LISA should be fairly uniform and so should IceCube Gen II\n",
    "def random_point():\n",
    "    phi = np.random.random()*2*np.pi\n",
    "    costheta = np.random.random()*2 - 1\n",
    "    theta = np.arccos(costheta)\n",
    "    return [theta, phi]"
   ]
  },
  {
   "cell_type": "code",
   "execution_count": 6,
   "metadata": {},
   "outputs": [],
   "source": [
    "def plot_gaussian_event(etheta, ephi, sigma, amp):\n",
    "    theta,phi=hp.pix2ang(NSIDE,np.arange(Npix))\n",
    "    return amp*np.exp(-((phi - ephi)**2+(theta - etheta)**2)/(2*sigma**2))"
   ]
  },
  {
   "cell_type": "code",
   "execution_count": 7,
   "metadata": {},
   "outputs": [],
   "source": [
    "def healpix_smooth(etheta, ephi, sig, amp):\n",
    "    pind = hp.ang2pix(NSIDE, etheta, ephi)\n",
    "    temp = np.zeros(Npix)\n",
    "    temp[pind] = amp\n",
    "    return hp.smoothing(temp, sigma=sig)"
   ]
  },
  {
   "cell_type": "code",
   "execution_count": 8,
   "metadata": {},
   "outputs": [],
   "source": [
    "# Reduce redundancy! hen=True --> HEN events, hen=False --> GW events\n",
    "# category depends on hen. hen=True: category = 0 --> low energy, 1 --> high energy\n",
    "# hen=False, category = 0 --> EMRI, 1 --> MBH (doesn't matter for now)\n",
    "def general_noise(hen, category):\n",
    "    if hen:\n",
    "        if category == 0:\n",
    "            noise_val = low_energy_resolution\n",
    "        else:\n",
    "            noise_val = high_energy_resolution\n",
    "    else:\n",
    "        noise_val = lisa_resolution\n",
    "    return np.random.normal()*np.array(noise_val)"
   ]
  },
  {
   "cell_type": "code",
   "execution_count": 9,
   "metadata": {},
   "outputs": [],
   "source": [
    "def general_event(poisson_lambda, hen, category):\n",
    "    points = []\n",
    "    noise = []\n",
    "    time = []\n",
    "    k = np.random.poisson(lam=poisson_lambda)\n",
    "    for i in range(k):\n",
    "        points.append(random_point())\n",
    "        noise.append(general_noise(hen, category))\n",
    "        time.append(add_time())\n",
    "    return [np.array(points), np.array(noise), np.array(time)]"
   ]
  },
  {
   "cell_type": "code",
   "execution_count": 10,
   "metadata": {},
   "outputs": [],
   "source": [
    "def make_hp_map(points, noise):\n",
    "    temp_map = np.zeros(Npix)\n",
    "    for i,v in enumerate(points):\n",
    "        temp_map += healpix_smooth(*v, np.linalg.norm(noise[i]), 1)\n",
    "    return temp_map"
   ]
  },
  {
   "cell_type": "code",
   "execution_count": 11,
   "metadata": {},
   "outputs": [],
   "source": [
    "def position_overlap(p1, p2, n1, n2):\n",
    "    pvec1 = hp.ang2vec(*p1)\n",
    "    pvec2 = hp.ang2vec(*p2)\n",
    "    p1_disk = hp.query_disc(256, pvec1, n1*position_factor, inclusive=True)\n",
    "    p2_disk = hp.query_disc(256, pvec2, n2*position_factor, inclusive=True)\n",
    "    overlap = np.intersect1d(p1_disk, p2_disk)\n",
    "    return len(overlap)"
   ]
  },
  {
   "cell_type": "code",
   "execution_count": 30,
   "metadata": {},
   "outputs": [],
   "source": [
    "def time_overlap(t1,t2):\n",
    "    d = {}\n",
    "    for i,v in enumerate(t1):\n",
    "        a = np.where(t2 < v + time_diff)[0] \n",
    "        b = np.where(t2 > v - time_diff)[0]\n",
    "        c = np.intersect1d(a,b)\n",
    "        if len(c) > 0:\n",
    "            d[i] = c\n",
    "    return d"
   ]
  },
  {
   "cell_type": "code",
   "execution_count": 31,
   "metadata": {},
   "outputs": [],
   "source": [
    "def overlap(e1, n1, t1, e2, n2, t2):\n",
    "    time_worthy = time_overlap(t1, t2)\n",
    "    overlap_counter = 0\n",
    "    pairs_overlap = []\n",
    "    for i,v in enumerate(time_worthy):\n",
    "        pos_1 = e1[v]\n",
    "        noise_1 = np.linalg.norm(n1[v])\n",
    "        for k in time_worthy[v]:\n",
    "            pos_2 = e2[k]\n",
    "            noise_2 = np.linalg.norm(n2[k])\n",
    "            l = position_overlap(pos_1, pos_2, noise_1, noise_2)\n",
    "            if l > 0:\n",
    "                pairs_overlap.append((v,k))\n",
    "                overlap_counter += 1\n",
    "\n",
    "    return overlap_counter, pairs_overlap"
   ]
  },
  {
   "cell_type": "code",
   "execution_count": 32,
   "metadata": {},
   "outputs": [],
   "source": [
    "def monte_carlo_run():\n",
    "    low = general_event(low_energy_rate, True, 0)\n",
    "    high = general_event(high_energy_rate, True, 1)\n",
    "    emri = general_event(emri_rate, False, 0)\n",
    "    mbh = general_event(mbh_rate, False, 1)\n",
    "    l_e, _ = overlap(*low, *emri)\n",
    "    l_m, _ = overlap(*low, *mbh)\n",
    "    h_e, _ = overlap(*high, *emri)\n",
    "    h_m, _ = overlap(*high, *mbh)\n",
    "    return np.array([l_e, l_m, h_e, h_m])"
   ]
  },
  {
   "cell_type": "code",
   "execution_count": 126,
   "metadata": {},
   "outputs": [],
   "source": [
    "def mc_big_hammer(n=100):\n",
    "    global time_diff\n",
    "    global emri_rate\n",
    "    global mbh_rate\n",
    "    global position_factor\n",
    "    for i in time_vals:\n",
    "        time_diff = i\n",
    "        for j in emri_array:\n",
    "            emri_rate = j\n",
    "            for k in mbh_array:\n",
    "                mbh_rate = k\n",
    "                for l in position_array:\n",
    "                    lval=[]\n",
    "                    position_factor = l\n",
    "                    for m in tqdm(range(n)):\n",
    "                        lval.append(np.sum(monte_carlo_run()))\n",
    "                        array_name = 'lval_big_time%i_emri%i_mbh%i_pos%i_%i_' % (i, j, k, l, n)\n",
    "                        np.save('output/' + array_name, lval)"
   ]
  },
  {
   "cell_type": "code",
   "execution_count": 125,
   "metadata": {},
   "outputs": [],
   "source": [
    "def mc(n=100):\n",
    "    lval = []\n",
    "    for i in tqdm(range(n)):\n",
    "        lval.append(np.sum(monte_carlo_run()))\n",
    "    return lval"
   ]
  },
  {
   "cell_type": "code",
   "execution_count": 127,
   "metadata": {},
   "outputs": [
    {
     "data": {
      "application/vnd.jupyter.widget-view+json": {
       "model_id": "d8aada50c53042ae91ae59edc18cdf90",
       "version_major": 2,
       "version_minor": 0
      },
      "text/plain": [
       "HBox(children=(IntProgress(value=0, max=10), HTML(value='')))"
      ]
     },
     "metadata": {},
     "output_type": "display_data"
    },
    {
     "name": "stdout",
     "output_type": "stream",
     "text": [
      "\n"
     ]
    },
    {
     "data": {
      "application/vnd.jupyter.widget-view+json": {
       "model_id": "a844e5c57c544b12bf9af324d6e3980e",
       "version_major": 2,
       "version_minor": 0
      },
      "text/plain": [
       "HBox(children=(IntProgress(value=0, max=10), HTML(value='')))"
      ]
     },
     "metadata": {},
     "output_type": "display_data"
    },
    {
     "name": "stdout",
     "output_type": "stream",
     "text": [
      "\n"
     ]
    },
    {
     "data": {
      "application/vnd.jupyter.widget-view+json": {
       "model_id": "a36bc768f81f414a8d990d7e2912d89f",
       "version_major": 2,
       "version_minor": 0
      },
      "text/plain": [
       "HBox(children=(IntProgress(value=0, max=10), HTML(value='')))"
      ]
     },
     "metadata": {},
     "output_type": "display_data"
    },
    {
     "name": "stdout",
     "output_type": "stream",
     "text": [
      "\n"
     ]
    },
    {
     "data": {
      "application/vnd.jupyter.widget-view+json": {
       "model_id": "2a4ead6b37c54f82b65386a77f0f31c8",
       "version_major": 2,
       "version_minor": 0
      },
      "text/plain": [
       "HBox(children=(IntProgress(value=0, max=10), HTML(value='')))"
      ]
     },
     "metadata": {},
     "output_type": "display_data"
    },
    {
     "name": "stdout",
     "output_type": "stream",
     "text": [
      "\n"
     ]
    },
    {
     "data": {
      "application/vnd.jupyter.widget-view+json": {
       "model_id": "6a858881357f4d3c98c7ca5f7b34f9e1",
       "version_major": 2,
       "version_minor": 0
      },
      "text/plain": [
       "HBox(children=(IntProgress(value=0, max=10), HTML(value='')))"
      ]
     },
     "metadata": {},
     "output_type": "display_data"
    },
    {
     "name": "stdout",
     "output_type": "stream",
     "text": [
      "\n"
     ]
    },
    {
     "data": {
      "application/vnd.jupyter.widget-view+json": {
       "model_id": "c1158254885e4d399460c76826ccd646",
       "version_major": 2,
       "version_minor": 0
      },
      "text/plain": [
       "HBox(children=(IntProgress(value=0, max=10), HTML(value='')))"
      ]
     },
     "metadata": {},
     "output_type": "display_data"
    },
    {
     "name": "stdout",
     "output_type": "stream",
     "text": [
      "\n"
     ]
    },
    {
     "data": {
      "application/vnd.jupyter.widget-view+json": {
       "model_id": "c218c37a1a914ad192c02cd211f15668",
       "version_major": 2,
       "version_minor": 0
      },
      "text/plain": [
       "HBox(children=(IntProgress(value=0, max=10), HTML(value='')))"
      ]
     },
     "metadata": {},
     "output_type": "display_data"
    },
    {
     "name": "stdout",
     "output_type": "stream",
     "text": [
      "\n"
     ]
    },
    {
     "data": {
      "application/vnd.jupyter.widget-view+json": {
       "model_id": "e39385abe3d5476abc788a2cdfbb7ee7",
       "version_major": 2,
       "version_minor": 0
      },
      "text/plain": [
       "HBox(children=(IntProgress(value=0, max=10), HTML(value='')))"
      ]
     },
     "metadata": {},
     "output_type": "display_data"
    },
    {
     "name": "stdout",
     "output_type": "stream",
     "text": [
      "\n"
     ]
    }
   ],
   "source": [
    "n = 10\n",
    "m = mc_big_hammer(n)"
   ]
  },
  {
   "cell_type": "code",
   "execution_count": 109,
   "metadata": {},
   "outputs": [
    {
     "data": {
      "text/plain": [
       "40"
      ]
     },
     "execution_count": 109,
     "metadata": {},
     "output_type": "execute_result"
    }
   ],
   "source": [
    "np.sum(m)"
   ]
  },
  {
   "cell_type": "code",
   "execution_count": 110,
   "metadata": {},
   "outputs": [
    {
     "data": {
      "image/png": "[encoded data removed]",
      "text/plain": [
       "<Figure size 432x288 with 1 Axes>"
      ]
     },
     "metadata": {
      "image/png": {
       "height": 250,
       "width": 390
      },
      "needs_background": "light"
     },
     "output_type": "display_data"
    }
   ],
   "source": [
    "plt.hist(m);"
   ]
  },
  {
   "cell_type": "code",
   "execution_count": 119,
   "metadata": {},
   "outputs": [],
   "source": [
    "k = np.load('output/lval_big_time1000_emri100_mbh3_pos1_n_.npy')"
   ]
  },
  {
   "cell_type": "code",
   "execution_count": 121,
   "metadata": {},
   "outputs": [
    {
     "data": {
      "text/plain": [
       "0"
      ]
     },
     "execution_count": 121,
     "metadata": {},
     "output_type": "execute_result"
    }
   ],
   "source": [
    "np.sum(k)"
   ]
  },
  {
   "cell_type": "code",
   "execution_count": 123,
   "metadata": {},
   "outputs": [
    {
     "data": {
      "image/png": "[encoded data removed]",
      "text/plain": [
       "<Figure size 432x288 with 1 Axes>"
      ]
     },
     "metadata": {
      "image/png": {
       "height": 250,
       "width": 370
      },
      "needs_background": "light"
     },
     "output_type": "display_data"
    }
   ],
   "source": [
    "plt.hist(k);"
   ]
  },
  {
   "cell_type": "code",
   "execution_count": null,
   "metadata": {},
   "outputs": [],
   "source": []
  }
 ],
 "metadata": {
  "kernelspec": {
   "display_name": "Python 3",
   "language": "python",
   "name": "python3"
  },
  "language_info": {
   "codemirror_mode": {
    "name": "ipython",
    "version": 3
   },
   "file_extension": ".py",
   "mimetype": "text/x-python",
   "name": "python",
   "nbconvert_exporter": "python",
   "pygments_lexer": "ipython3",
   "version": "3.7.2"
  }
 },
 "nbformat": 4,
 "nbformat_minor": 2
}
